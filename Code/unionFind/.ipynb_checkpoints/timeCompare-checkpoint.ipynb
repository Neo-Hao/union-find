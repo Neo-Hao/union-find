{
 "cells": [
  {
   "cell_type": "code",
   "execution_count": 1,
   "metadata": {
    "collapsed": true
   },
   "outputs": [],
   "source": [
    "import random\n",
    "import timeit\n",
    "\n",
    "# general findSet\n",
    "def findSet(n, edges, union):\n",
    "    v1 = 0\n",
    "    v2 = n-1\n",
    "    # makeSet\n",
    "    for i in range(n):\n",
    "        union.makeSet(i)\n",
    "    # union\n",
    "    for v1, v2 in edges:\n",
    "        union.union(v1, v2)\n",
    "    # findSet 1, 2, 3\n",
    "    union.findSet(v1) == union.findSet(v2)\n",
    "    if (v2 - 1) >= 0: union.findSet(v1+1) == union.findSet(v2-1)\n",
    "    if (v2 - 2) >= 0: union.findSet(v1+2) == union.findSet(v2-2)\n",
    "\n",
    "# wrapper\n",
    "def wrapper(func, *args, **kwargs):\n",
    "    def wrapped():\n",
    "        return func(*args, **kwargs)\n",
    "    return wrapped\n",
    "\n",
    "### Node: supportive class\n",
    "class Node(object):\n",
    "    def __init__(self, v):\n",
    "        self.v = v\n",
    "        self.parent = None\n",
    "        self.rank = 0\n",
    "\n",
    "### Naive union find\n",
    "class UnionNaive(object):\n",
    "    def __init__(self):\n",
    "        # use table to associate a vertex and a node\n",
    "        self.table = {}\n",
    "\n",
    "    # makeSet method\n",
    "    def makeSet(self, v):\n",
    "        # input: vertex\n",
    "        node = Node(v)\n",
    "        node.parent = node\n",
    "        self.table[v] = node\n",
    "\n",
    "    # union method\n",
    "    def union(self, v1, v2):\n",
    "        # input: vertex1, vertex2\n",
    "        i, j = self.findSet(v1), self.findSet(v2)\n",
    "        if i == j:\n",
    "            return\n",
    "        j.parent = i\n",
    "\n",
    "    # findSet method\n",
    "    def findSet(self, v):\n",
    "        # input vertex\n",
    "        n = self.table[v]\n",
    "        return self.findSetHelper(n)\n",
    "\n",
    "    def findSetHelper(self, n):\n",
    "        # input node\n",
    "        if n.parent == n:\n",
    "            return n\n",
    "        return self.findSetHelper(n.parent)\n",
    "\n",
    "# optimized union find\n",
    "class UnionOpt(object):\n",
    "    def __init__(self):\n",
    "        self.table = {}\n",
    "    \n",
    "    # makeSet method\n",
    "    def makeSet(self, val):\n",
    "        node = Node(val)\n",
    "        node.parent = node\n",
    "        self.table[val] = node\n",
    "    \n",
    "    # union method\n",
    "    def union(self, v1, v2):\n",
    "        i, j = self.findSet(v1), self.findSet(v2)\n",
    "        \n",
    "        # if they belong to the same set, do nothing\n",
    "        if i == j: return\n",
    "        \n",
    "        if i.rank > j.rank:\n",
    "            j.parent = i\n",
    "        elif i.rank < j.rank:\n",
    "            i.parent = j\n",
    "        else:\n",
    "            # if they have the same rank, increase the rank of the new representative\n",
    "            j.parent = i\n",
    "            i.rank += 1\n",
    "    \n",
    "    # findSet method\n",
    "    def findSet(self, v):\n",
    "        node = self.table[v]\n",
    "        return self.findSetHelper(node)\n",
    "\n",
    "    def findSetHelper(self, n):\n",
    "        # representative itself\n",
    "        if n == n.parent:\n",
    "            return n\n",
    "        n.parent = self.findSetHelper(n.parent)\n",
    "        return n.parent"
   ]
  },
  {
   "cell_type": "code",
   "execution_count": 10,
   "metadata": {
    "collapsed": true
   },
   "outputs": [],
   "source": [
    "# 10 - 5000\n",
    "n = 5000\n",
    "edges = [[random.randint(0, n-1),random.randint(0, n-1)] for i in range(n-1)]"
   ]
  },
  {
   "cell_type": "code",
   "execution_count": null,
   "metadata": {
    "collapsed": false
   },
   "outputs": [],
   "source": [
    "wrapped = wrapper(findSet, n, edges, UnionNaive())\n",
    "timeit.timeit(wrapped, number=100)"
   ]
  },
  {
   "cell_type": "code",
   "execution_count": 9,
   "metadata": {
    "collapsed": false
   },
   "outputs": [
    {
     "data": {
      "text/plain": [
       "0.28626845382752464"
      ]
     },
     "execution_count": 9,
     "metadata": {},
     "output_type": "execute_result"
    }
   ],
   "source": [
    "wrapped = wrapper(findSet, n, edges, UnionOpt())\n",
    "timeit.timeit(wrapped, number=100)"
   ]
  }
 ],
 "metadata": {
  "anaconda-cloud": {},
  "kernelspec": {
   "display_name": "Python [Root]",
   "language": "python",
   "name": "Python [Root]"
  },
  "language_info": {
   "codemirror_mode": {
    "name": "ipython",
    "version": 2
   },
   "file_extension": ".py",
   "mimetype": "text/x-python",
   "name": "python",
   "nbconvert_exporter": "python",
   "pygments_lexer": "ipython2",
   "version": "2.7.12"
  }
 },
 "nbformat": 4,
 "nbformat_minor": 0
}
